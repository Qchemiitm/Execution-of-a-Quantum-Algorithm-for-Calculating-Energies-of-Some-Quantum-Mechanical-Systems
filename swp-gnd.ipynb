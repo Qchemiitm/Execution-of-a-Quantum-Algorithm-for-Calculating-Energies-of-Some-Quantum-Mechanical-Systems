{
 "cells": [
  {
   "cell_type": "code",
   "execution_count": 1,
   "id": "8f975c95-488f-4142-91d6-f041faeb959b",
   "metadata": {
    "tags": []
   },
   "outputs": [],
   "source": [
    "import numpy as np\n",
    "\n",
    "# importing Qiskit\n",
    "from qiskit import QuantumCircuit, transpile, assemble, Aer, IBMQ,execute, QuantumRegister\n",
    "from qiskit.utils import QuantumInstance\n",
    "from qiskit.providers.ibmq import least_busy\n",
    "from qiskit.tools.monitor import job_monitor\n",
    "from qiskit.visualization import plot_histogram, plot_bloch_multivector\n",
    "from qiskit import BasicAer\n",
    "from qiskit.circuit import Gate\n",
    "from qiskit.extensions import UnitaryGate\n",
    "from math import ceil\n",
    "import matplotlib.pyplot as plt\n",
    "from qiskit.circuit.library import QFT"
   ]
  },
  {
   "cell_type": "code",
   "execution_count": 2,
   "id": "d27ac5f5-87d1-46f9-9896-f1ea645010bb",
   "metadata": {
    "tags": []
   },
   "outputs": [],
   "source": [
    "backend = BasicAer.get_backend('qasm_simulator')"
   ]
  },
  {
   "cell_type": "code",
   "execution_count": 3,
   "id": "317a1b67-0e83-4be5-9410-bb7e9c6dd715",
   "metadata": {
    "tags": []
   },
   "outputs": [],
   "source": [
    "def qft(qfc,m,n):\n",
    "    qfc = qfc.compose(QFT(n-m+1, inverse=False), [x for x in range(m,n+1)])\n",
    "    return qfc\n",
    "def inv_qft(iqfc,m,n):\n",
    "    iqfc = iqfc.compose(QFT(n-m+1, inverse=True), [x for x in range(m,n+1)])\n",
    "    return iqfc\n",
    "def qpe(n,unitary,initial):\n",
    "    qpc = QuantumCircuit(2*n,n)\n",
    "    for i in range(n):\n",
    "        qpc.h(i)\n",
    "    qpc.initialize(initial,qpc.qubits[n:2*n])\n",
    "    \n",
    "    c_unitary = unitary.to_gate().control(1)\n",
    "    \n",
    "    for i in range(n):\n",
    "        for j in range(2**(n-i)):\n",
    "            qpc.append(c_unitary,[i]+[x for x in range(n,2*n)])\n",
    "    \n",
    "    inv_qft(qpc,0,n-1)\n",
    "    \n",
    "    for i in range(n):\n",
    "        qpc.measure(i,i)\n",
    "    return qpc\n",
    "def iqpe(n,unitary,initial,k_precision):\n",
    "    phase = 0\n",
    "    for k in reversed(range(k_precision)):\n",
    "        iqc = QuantumCircuit(n+1,1)\n",
    "        iqc.h(0)\n",
    "        iqc.initialize(initial,iqc.qubits[1:])\n",
    "        #iqc.x(1)\n",
    "        c_unitary = unitary.control(1)\n",
    "        \n",
    "        for order in range(2**k):\n",
    "            iqc.append(c_unitary,iqc.qubits[:])\n",
    " \n",
    "        phase_shift = 2*np.pi*phase*2**k\n",
    "        iqc.p(-phase_shift,0)\n",
    "        iqc.h(0)\n",
    "        iqc.measure(0,0)\n",
    "        \n",
    "        job = execute(iqc, backend, shots=1000)\n",
    "        result = job.result()\n",
    "        counts = result.get_counts()\n",
    "        value = int(max(counts, key=counts.get))\n",
    "        \n",
    "        phase += value / 2 ** (k + 1)\n",
    "        \n",
    "    return phase"
   ]
  },
  {
   "cell_type": "code",
   "execution_count": 4,
   "id": "2d59cacc-ba44-4df2-b496-d9478c7b4d01",
   "metadata": {
    "tags": []
   },
   "outputs": [
    {
     "data": {
      "image/png": "[encoded data removed]",
      "text/plain": [
       "<Figure size 640x480 with 1 Axes>"
      ]
     },
     "metadata": {},
     "output_type": "display_data"
    }
   ],
   "source": [
    "#DEFINE INITIAL WAVEFUNCTION\n",
    "\n",
    "L = 0.5 #width of square well\n",
    "n = 4 #number of qubits\n",
    "x = np.linspace(-L, L, num=2**n) #number of x points\n",
    "\n",
    "wvfunc = np.exp(-10*x**2) #Initial wavefunciton\n",
    "Normalisation_Constant = np.sqrt(np.sum(wvfunc**2)) \n",
    "normalized_wvfunc = wvfunc / Normalisation_Constant ##Normalized initial wavefunction\n",
    "plt.plot(x, normalized_wvfunc,'ro')\n",
    "plt.ylabel('$e^{-10 x^2}$')\n",
    "plt.xlabel('x')\n",
    "plt.title('Ground State Wavefunction')\n",
    "plt.savefig('swp-initial-state.png')"
   ]
  },
  {
   "cell_type": "code",
   "execution_count": 5,
   "id": "6d6b4d16-1dd3-4546-9cb9-afc66907fec0",
   "metadata": {
    "tags": []
   },
   "outputs": [],
   "source": [
    "#DEFINE PARAMETERS\n",
    "n = 4\n",
    "qubit_num = n #number of qubits\n",
    "qubit_tot = 2**qubit_num #number of possible states\n",
    "dt = 0.0012 #timestep\n",
    "v = 100 #potential within the system (v1, v0=0)\n",
    "iteration = 50 #number of iteration\n",
    "t = iteration*dt #time evolution\n",
    "ALPHA = -(2*np.pi*qubit_tot)**2* dt/2\n"
   ]
  },
  {
   "cell_type": "code",
   "execution_count": 6,
   "id": "986f53d5-48d7-40d1-8f4b-eebc1d581abb",
   "metadata": {
    "tags": []
   },
   "outputs": [],
   "source": [
    "def potential(circ,n):\n",
    "    \n",
    "    pot = -dt*v\n",
    "    i = 0 + 1j\n",
    "    potential_matrix = np.array([[np.exp(i*pot/2), 0], [0, np.exp(i*pot/2)]])\n",
    "    potential_gate = UnitaryGate(potential_matrix)\n",
    "    \n",
    "    #Create Potential unitary gate\n",
    "    qcc = QuantumCircuit(1)\n",
    "    qcc.append(potential_gate, [0])\n",
    "    potgate = qcc.to_gate(label='Potential').control(1)\n",
    "    \n",
    "    circ.x(n-2)\n",
    "    circ.cx(n-2,n-1)\n",
    "    circ.x(n-2)\n",
    "    #circ.barrier()\n",
    "    circ.x(n-1)\n",
    "    circ.append(potgate,[n-1,n-2])\n",
    "    circ.x(n-1)\n",
    "    #circ.barrier()\n",
    "    circ.x(n-2)\n",
    "    circ.cx(n-2,n-1)\n",
    "    circ.x(n-2)\n",
    "    \"\"\"\n",
    "    circ.x(n-1)\n",
    "    circ.append(potgate,[n-1,n-2])\n",
    "    circ.x(n-2)\n",
    "    circ.x(n-1)\n",
    "    circ.append(potgate,[n-2,n-1])\n",
    "    circ.x(n-2)\n",
    "    \"\"\"\n",
    "    return circ\n",
    "\n",
    "def constant_phase(circuit):\n",
    "    \"\"\"\n",
    "    Add constant phase to the circuit\n",
    "    Args:\n",
    "        circuit, register, number of qubits\n",
    "    \"\"\"\n",
    "    i = 0 + 1j\n",
    "    constant_phase = np.array([[np.exp(i*ALPHA/4), 0], [0, np.exp(i*ALPHA/4)]])\n",
    "    cp_gate = UnitaryGate(constant_phase, 'Constant')\n",
    "    circuit.append(cp_gate, [0])\n",
    "    #circuit.barrier()\n",
    "    \n",
    "    return circuit\n",
    "\n",
    "def rotate1(circuit, n):\n",
    "    \"\"\"\n",
    "    Add shift phase gate to the circuit\n",
    "    Args:\n",
    "        circuit, register, number of qubits\n",
    "    \"\"\"\n",
    "    \n",
    "    for m in range(n):\n",
    "        theta = -ALPHA * 2**(m-n)\n",
    "        circuit.p(theta, m)\n",
    "        \n",
    "    return circuit\n",
    "\n",
    "\n",
    "def rotate2(circuit,n):\n",
    "    \"\"\"\n",
    "    Add constant phase to the circuit\n",
    "    Args:\n",
    "        circuit, register, number of qubits\n",
    "    \"\"\"\n",
    "    \n",
    "    for m in range(n):\n",
    "        theta = ALPHA * 2**(2*(m-n))\n",
    "        circuit.p(theta, m)\n",
    "        \n",
    "    return circuit\n",
    "\n",
    "def kinetic(circuit, qubit):\n",
    "    \"\"\"\n",
    "    Define energy kinetic operator\n",
    "    Args:\n",
    "        circuit, register, number of qubits\n",
    "    Returns:\n",
    "        Add energy kinetics to the system\n",
    "    \"\"\"\n",
    "    \n",
    "    constant_phase(circuit)\n",
    "    rotate1(circuit,qubit)\n",
    "    rotate2(circuit,qubit)\n",
    "    \n",
    "    n = np.arange(qubit-1, -1, -1, dtype=float)\n",
    "    \n",
    "    for i in n:\n",
    "        for j in np.arange(i-1, -1, -1, dtype=float):\n",
    "            kin = 2*ALPHA*2**(j + i - 2*(len(n)))\n",
    "            circuit.cp(kin,int(j), int(i))\n",
    "            \n",
    "    return circuit\n",
    "\n"
   ]
  },
  {
   "cell_type": "code",
   "execution_count": 13,
   "id": "eea017d8-9aac-4a2e-8372-fad3fe90fa37",
   "metadata": {
    "tags": []
   },
   "outputs": [],
   "source": [
    "def te(unitary):\n",
    "    for i in range(iteration):\n",
    "        potential(unitary,4)\n",
    "        #unitary.barrier()\n",
    "        unitary = inv_qft(unitary,0,3)\n",
    "        #unitary.barrier()\n",
    "        kinetic(unitary,4)\n",
    "        #unitary.barrier()\n",
    "        unitary = qft(unitary,0,3)\n",
    "        #unitary.barrier()\n",
    "        potential(unitary,4)\n",
    "        #unitary.barrier()\n",
    "    return unitary\n",
    "c = QuantumCircuit(4)\n",
    "unitary = te(c).to_gate()"
   ]
  },
  {
   "cell_type": "code",
   "execution_count": null,
   "id": "221f319e-1778-4ceb-b451-bd47058d4744",
   "metadata": {
    "tags": []
   },
   "outputs": [],
   "source": []
  },
  {
   "cell_type": "code",
   "execution_count": 14,
   "id": "5161c199-c0f6-4baf-aee8-d06df833a934",
   "metadata": {
    "tags": []
   },
   "outputs": [],
   "source": [
    "theta = iqpe(4,unitary,normalized_wvfunc,5)"
   ]
  },
  {
   "cell_type": "code",
   "execution_count": 15,
   "id": "02b3bae0-5348-4d67-9e7e-3d570311e136",
   "metadata": {
    "tags": []
   },
   "outputs": [
    {
     "name": "stdout",
     "output_type": "stream",
     "text": [
      "Energy is -62.177354602297996\n"
     ]
    }
   ],
   "source": [
    "E = theta*2*np.pi/0.06-2*np.pi/0.06 \n",
    "print(f'Energy is {E}')"
   ]
  },
  {
   "cell_type": "code",
   "execution_count": 16,
   "id": "15f7e5e5-95ff-4aed-a113-b035cf888b2b",
   "metadata": {
    "tags": []
   },
   "outputs": [],
   "source": [
    "def aipe(n,unitary,initial):\n",
    "    phase = 0\n",
    "    iqc = QuantumCircuit(n+1,1)\n",
    "    iqc.h(0)\n",
    "    iqc.initialize(initial,iqc.qubits[1:])\n",
    "    #iqc.x(1)\n",
    "    c_unitary = unitary.control(1)\n",
    "\n",
    "\n",
    "    iqc.append(c_unitary,iqc.qubits[:])\n",
    "\n",
    "    phase_shift = 2*np.pi*phase\n",
    "    iqc.p(-phase_shift,0)\n",
    "    iqc.h(0)\n",
    "    iqc.measure(0,0)\n",
    "\n",
    "    job = execute(iqc, backend, shots=1000)\n",
    "    result = job.result()\n",
    "    counts = result.get_counts()\n",
    "    ans1 = np.arccos(counts['0']/(counts['0']+counts['1']))\n",
    "    iqc = QuantumCircuit(n+1,1)\n",
    "    iqc.h(0)\n",
    "    iqc.initialize(initial,iqc.qubits[1:])\n",
    "    iqc.s(0)\n",
    "    c_unitary = unitary.control(1)\n",
    "\n",
    "\n",
    "    iqc.append(c_unitary,iqc.qubits[:])\n",
    "\n",
    "    phase_shift = 2*np.pi*phase\n",
    "    iqc.p(-phase_shift,0)\n",
    "    iqc.h(0)\n",
    "    iqc.measure(0,0)\n",
    "\n",
    "    job = execute(iqc, backend, shots=1000)\n",
    "    result = job.result()\n",
    "    counts = result.get_counts()\n",
    "    ans2 = np.arcsin(counts['1']/(counts['0']+counts['1']))\n",
    "    return (ans1+ans2)/2"
   ]
  },
  {
   "cell_type": "code",
   "execution_count": 17,
   "id": "cec42c98-96b8-4ca9-9652-6eaea82fcf9a",
   "metadata": {
    "tags": []
   },
   "outputs": [],
   "source": [
    "e = []\n",
    "for i in range(20):    \n",
    "    theta = aipe(4,unitary,normalized_wvfunc)\n",
    "    Energy = - 2*np.pi*theta/0.06\n",
    "    e = e+[Energy]"
   ]
  },
  {
   "cell_type": "code",
   "execution_count": 12,
   "id": "2c62f146-ef1b-4aba-8db3-b6ab53dfd276",
   "metadata": {
    "tags": []
   },
   "outputs": [
    {
     "data": {
      "text/plain": [
       "-126.59286493771796"
      ]
     },
     "execution_count": 12,
     "metadata": {},
     "output_type": "execute_result"
    }
   ],
   "source": [
    "en = np.array(e)\n",
    "energy = np.mean(en)\n",
    "energy"
   ]
  },
  {
   "cell_type": "code",
   "execution_count": 13,
   "id": "d27d7e4c-8dcb-4bf6-bf2b-589d4ba97623",
   "metadata": {
    "tags": []
   },
   "outputs": [
    {
     "data": {
      "text/plain": [
       "[-126.01722467385089,\n",
       " -127.47977124537277,\n",
       " -125.44865765013856,\n",
       " -124.8609719366721,\n",
       " -125.01098217805334,\n",
       " -128.1770139492712,\n",
       " -125.03375006714528,\n",
       " -125.29876643600127,\n",
       " -127.59466815818722,\n",
       " -127.5607460519777,\n",
       " -125.29923719170148,\n",
       " -127.17203326666024,\n",
       " -128.57102574960652,\n",
       " -129.61378655472544,\n",
       " -127.8058175537317,\n",
       " -125.54757585386103,\n",
       " -125.14015814178316,\n",
       " -128.44147456753925,\n",
       " -124.67384924589729,\n",
       " -127.10978828218283]"
      ]
     },
     "execution_count": 13,
     "metadata": {},
     "output_type": "execute_result"
    }
   ],
   "source": [
    "e"
   ]
  },
  {
   "cell_type": "code",
   "execution_count": 14,
   "id": "b8747a35-c711-4424-a539-da322487d832",
   "metadata": {
    "tags": []
   },
   "outputs": [],
   "source": [
    "potent = QuantumCircuit(4)\n",
    "potential(potent,4)\n",
    "potent.draw('mpl').savefig('SWP-potential.png')\n",
    "\n",
    "kine = QuantumCircuit(4)\n",
    "kinetic(kine,4)\n",
    "kine.draw('mpl').savefig('SWP-kinetic.png')"
   ]
  },
  {
   "cell_type": "code",
   "execution_count": null,
   "id": "a73e636d-d15e-42e3-9a1e-a77eb5c99bf6",
   "metadata": {},
   "outputs": [],
   "source": []
  }
 ],
 "metadata": {
  "kernelspec": {
   "display_name": "Python 3 (ipykernel)",
   "language": "python",
   "name": "python3"
  },
  "language_info": {
   "codemirror_mode": {
    "name": "ipython",
    "version": 3
   },
   "file_extension": ".py",
   "mimetype": "text/x-python",
   "name": "python",
   "nbconvert_exporter": "python",
   "pygments_lexer": "ipython3",
   "version": "3.11.4"
  }
 },
 "nbformat": 4,
 "nbformat_minor": 5
}
